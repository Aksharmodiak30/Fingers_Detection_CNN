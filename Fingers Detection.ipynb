{
 "cells": [
  {
   "cell_type": "code",
   "execution_count": 1,
   "metadata": {},
   "outputs": [
    {
     "name": "stderr",
     "output_type": "stream",
     "text": [
      "Using TensorFlow backend.\n"
     ]
    },
    {
     "name": "stdout",
     "output_type": "stream",
     "text": [
      "Loaded...\n",
      "1920\n",
      "612\n",
      "AKSHAR MODI\n"
     ]
    }
   ],
   "source": [
    "import numpy as np\n",
    "import pandas as pd\n",
    "import tensorflow as tf\n",
    "from skimage import io, transform\n",
    "\n",
    "import os, glob\n",
    "\n",
    "from keras.models import Sequential\n",
    "from keras.layers import Dense, Conv2D, MaxPool2D, Dropout, Flatten\n",
    "\n",
    "from sklearn.model_selection import train_test_split\n",
    "print(\"Loaded...\")\n",
    "\n",
    "\n",
    "\n",
    "train_img_list = glob.glob(\"*/train1/*.png\")\n",
    "test_img_list = glob.glob(\"*/test1/*.png\")\n",
    "print(len(train_img_list),\n",
    "     len(test_img_list), sep = '\\n')\n",
    "\n",
    "\n",
    "\n",
    "train_img_data = []\n",
    "test_img_data = []\n",
    "train_label_data = []\n",
    "test_label_data = []\n",
    "    \n",
    "for img in train_img_list:\n",
    "    img_read = io.imread(img)\n",
    "    img_read = transform.resize(img_read, (128,128), mode = 'constant')\n",
    "    train_img_data.append(img_read)\n",
    "    train_label_data.append(img[-6])\n",
    "\n",
    "for img in test_img_list:\n",
    "    img_read = io.imread(img)\n",
    "    img_read = transform.resize(img_read, (128,128), mode = 'constant')\n",
    "    test_img_data.append(img_read)\n",
    "    test_label_data.append(img[-6])\n",
    "\n",
    "\n",
    "xtrain = np.array(train_img_data)\n",
    "ytrain = np.array(train_label_data)\n",
    "xtest = np.array(test_img_data)\n",
    "ytest = np.array(test_label_data)\n",
    "\n",
    "\n",
    "\n",
    "xtrain = xtrain.reshape(xtrain.shape[0], 128, 128, 1)\n",
    "xtest = xtest.reshape(xtest.shape[0], 128, 128, 1)\n",
    "\n",
    "\n",
    "print(\"AKSHAR MODI\")\n",
    "\n"
   ]
  },
  {
   "cell_type": "code",
   "execution_count": 2,
   "metadata": {},
   "outputs": [
    {
     "name": "stdout",
     "output_type": "stream",
     "text": [
      "1920\n",
      "['0', '2', '3']\n"
     ]
    }
   ],
   "source": [
    "print(len(train_label_data))\n",
    "print(train_label_data[1:4])"
   ]
  },
  {
   "cell_type": "code",
   "execution_count": 3,
   "metadata": {},
   "outputs": [
    {
     "name": "stdout",
     "output_type": "stream",
     "text": [
      "(1920, 128, 128, 1) (612, 128, 128, 1) (1920, 6) (612, 6)\n"
     ]
    }
   ],
   "source": [
    "\n",
    "ytrain = tf.keras.utils.to_categorical(ytrain, num_classes = 6, dtype='int64')\n",
    "ytest = tf.keras.utils.to_categorical(ytest, num_classes = 6)\n",
    "print(xtrain.shape, xtest.shape, ytrain.shape, ytest.shape)\n"
   ]
  },
  {
   "cell_type": "code",
   "execution_count": 4,
   "metadata": {},
   "outputs": [
    {
     "name": "stdout",
     "output_type": "stream",
     "text": [
      "Model: \"sequential_1\"\n",
      "_________________________________________________________________\n",
      "Layer (type)                 Output Shape              Param #   \n",
      "=================================================================\n",
      "conv2d_1 (Conv2D)            (None, 126, 126, 32)      320       \n",
      "_________________________________________________________________\n",
      "conv2d_2 (Conv2D)            (None, 124, 124, 32)      9248      \n",
      "_________________________________________________________________\n",
      "conv2d_3 (Conv2D)            (None, 122, 122, 64)      18496     \n",
      "_________________________________________________________________\n",
      "conv2d_4 (Conv2D)            (None, 120, 120, 64)      36928     \n",
      "_________________________________________________________________\n",
      "max_pooling2d_1 (MaxPooling2 (None, 60, 60, 64)        0         \n",
      "_________________________________________________________________\n",
      "conv2d_5 (Conv2D)            (None, 58, 58, 128)       73856     \n",
      "_________________________________________________________________\n",
      "conv2d_6 (Conv2D)            (None, 56, 56, 128)       147584    \n",
      "_________________________________________________________________\n",
      "flatten_1 (Flatten)          (None, 401408)            0         \n",
      "_________________________________________________________________\n",
      "dropout_1 (Dropout)          (None, 401408)            0         \n",
      "_________________________________________________________________\n",
      "dense_1 (Dense)              (None, 256)               102760704 \n",
      "_________________________________________________________________\n",
      "dropout_2 (Dropout)          (None, 256)               0         \n",
      "_________________________________________________________________\n",
      "dense_2 (Dense)              (None, 6)                 1542      \n",
      "=================================================================\n",
      "Total params: 103,048,678\n",
      "Trainable params: 103,048,678\n",
      "Non-trainable params: 0\n",
      "_________________________________________________________________\n"
     ]
    }
   ],
   "source": [
    "x_train, x_test, y_train, y_test = train_test_split(xtrain, ytrain, test_size = 0.20, random_state = 7, shuffle = True)\n",
    "x_train_val, x_test_val, y_train_val, y_test_val = train_test_split(x_train, y_train, test_size = 0.20, random_state = 7, shuffle = True)\n",
    "\n",
    "\n",
    "\n",
    "model = Sequential()\n",
    "model.add(Conv2D(32, (3,3), input_shape = (128, 128, 1), activation = 'relu'))\n",
    "model.add(Conv2D(32, (3,3), activation = 'relu'))\n",
    "\n",
    "model.add(Conv2D(64, (3,3), activation = 'relu'))\n",
    "model.add(Conv2D(64, (3,3), activation = 'relu'))\n",
    "\n",
    "model.add(MaxPool2D((2,2)))\n",
    "\n",
    "model.add(Conv2D(128, (3,3), activation = 'relu'))\n",
    "model.add(Conv2D(128, (3,3), activation = 'relu'))\n",
    "\n",
    "model.add(Flatten())\n",
    "\n",
    "model.add(Dropout(0.40))\n",
    "model.add(Dense(256, activation = 'relu'))\n",
    "model.add(Dropout(0.40))\n",
    "model.add(Dense(6, activation = 'softmax'))\n",
    "\n",
    "model.summary()"
   ]
  },
  {
   "cell_type": "code",
   "execution_count": 5,
   "metadata": {},
   "outputs": [
    {
     "name": "stdout",
     "output_type": "stream",
     "text": [
      "Train on 1536 samples, validate on 384 samples\n",
      "Epoch 1/5\n",
      "1536/1536 [==============================] - 401s 261ms/step - loss: 1.7879 - accuracy: 0.2122 - val_loss: 1.7843 - val_accuracy: 0.3177\n",
      "Epoch 2/5\n",
      "1536/1536 [==============================] - 319s 208ms/step - loss: 1.7784 - accuracy: 0.2806 - val_loss: 1.7733 - val_accuracy: 0.3672\n",
      "Epoch 3/5\n",
      "1536/1536 [==============================] - 341s 222ms/step - loss: 1.7619 - accuracy: 0.3158 - val_loss: 1.7452 - val_accuracy: 0.4062\n",
      "Epoch 4/5\n",
      "1536/1536 [==============================] - 452s 294ms/step - loss: 1.7076 - accuracy: 0.4251 - val_loss: 1.6295 - val_accuracy: 0.63541:54 - loss: 1.7229 - accuracy: 0.40 - ETA: 1:33 - loss: 1.7205 - accuracy: 0. - ETA: 35s - loss: 1.7121 - accuracy: 0.4247\n",
      "Epoch 5/5\n",
      "1536/1536 [==============================] - 370s 241ms/step - loss: 1.4565 - accuracy: 0.5625 - val_loss: 0.9638 - val_accuracy: 0.6693\n"
     ]
    },
    {
     "data": {
      "text/plain": [
       "<keras.callbacks.callbacks.History at 0x1e981153b08>"
      ]
     },
     "execution_count": 5,
     "metadata": {},
     "output_type": "execute_result"
    }
   ],
   "source": [
    "model.compile('SGD', loss = 'categorical_crossentropy', metrics = ['accuracy'])\n",
    "model.fit(x = x_train, y = y_train, batch_size = 128, epochs = 5, validation_data = (x_test, y_test))"
   ]
  },
  {
   "cell_type": "code",
   "execution_count": null,
   "metadata": {},
   "outputs": [],
   "source": []
  }
 ],
 "metadata": {
  "kernelspec": {
   "display_name": "Python 3",
   "language": "python",
   "name": "python3"
  },
  "language_info": {
   "codemirror_mode": {
    "name": "ipython",
    "version": 3
   },
   "file_extension": ".py",
   "mimetype": "text/x-python",
   "name": "python",
   "nbconvert_exporter": "python",
   "pygments_lexer": "ipython3",
   "version": "3.7.7"
  }
 },
 "nbformat": 4,
 "nbformat_minor": 4
}
